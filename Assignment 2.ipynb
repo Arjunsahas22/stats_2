{
 "cells": [
  {
   "cell_type": "code",
   "execution_count": 69,
   "id": "97a2e212",
   "metadata": {},
   "outputs": [],
   "source": [
    "import pandas as pd\n",
    "import matplotlib.pyplot as plt\n",
    "%matplotlib inline\n",
    "import warnings \n",
    "warnings.filterwarnings(\"ignore\")\n",
    "from warnings import simplefilter\n",
    "simplefilter(action='ignore', category=FutureWarning)\n",
    "import seaborn as sns\n",
    "from sklearn import tree\n",
    "from sklearn.model_selection import train_test_split\n",
    "from sklearn.ensemble import RandomForestClassifier\n",
    "from sklearn.naive_bayes import GaussianNB\n",
    "from sklearn.linear_model import LogisticRegression\n",
    "from sklearn.ensemble import AdaBoostClassifier\n",
    "from mlxtend.classifier  import EnsembleVoteClassifier\n",
    "from sklearn.metrics import classification_report\n",
    "import numpy as np\n",
    "from sklearn.model_selection import RandomizedSearchCV"
   ]
  },
  {
   "cell_type": "code",
   "execution_count": 70,
   "id": "8034a3a5",
   "metadata": {},
   "outputs": [
    {
     "data": {
      "text/html": [
       "<div>\n",
       "<style scoped>\n",
       "    .dataframe tbody tr th:only-of-type {\n",
       "        vertical-align: middle;\n",
       "    }\n",
       "\n",
       "    .dataframe tbody tr th {\n",
       "        vertical-align: top;\n",
       "    }\n",
       "\n",
       "    .dataframe thead th {\n",
       "        text-align: right;\n",
       "    }\n",
       "</style>\n",
       "<table border=\"1\" class=\"dataframe\">\n",
       "  <thead>\n",
       "    <tr style=\"text-align: right;\">\n",
       "      <th></th>\n",
       "      <th>make</th>\n",
       "      <th>address</th>\n",
       "      <th>all</th>\n",
       "      <th>3d</th>\n",
       "      <th>our</th>\n",
       "      <th>over</th>\n",
       "      <th>remove</th>\n",
       "      <th>internet</th>\n",
       "      <th>order</th>\n",
       "      <th>mail</th>\n",
       "      <th>...</th>\n",
       "      <th>semicol</th>\n",
       "      <th>paren</th>\n",
       "      <th>bracket</th>\n",
       "      <th>bang</th>\n",
       "      <th>dollar</th>\n",
       "      <th>pound</th>\n",
       "      <th>cap_avg</th>\n",
       "      <th>cap_long</th>\n",
       "      <th>cap_total</th>\n",
       "      <th>Class</th>\n",
       "    </tr>\n",
       "  </thead>\n",
       "  <tbody>\n",
       "    <tr>\n",
       "      <th>0</th>\n",
       "      <td>0.00</td>\n",
       "      <td>0.00</td>\n",
       "      <td>0.29</td>\n",
       "      <td>0.0</td>\n",
       "      <td>0.00</td>\n",
       "      <td>0.00</td>\n",
       "      <td>0.00</td>\n",
       "      <td>0.00</td>\n",
       "      <td>0.00</td>\n",
       "      <td>0.00</td>\n",
       "      <td>...</td>\n",
       "      <td>0.000</td>\n",
       "      <td>0.178</td>\n",
       "      <td>0.0</td>\n",
       "      <td>0.044</td>\n",
       "      <td>0.000</td>\n",
       "      <td>0.00</td>\n",
       "      <td>1.666</td>\n",
       "      <td>10</td>\n",
       "      <td>180</td>\n",
       "      <td>ham</td>\n",
       "    </tr>\n",
       "    <tr>\n",
       "      <th>1</th>\n",
       "      <td>0.46</td>\n",
       "      <td>0.00</td>\n",
       "      <td>0.00</td>\n",
       "      <td>0.0</td>\n",
       "      <td>0.00</td>\n",
       "      <td>0.00</td>\n",
       "      <td>0.00</td>\n",
       "      <td>0.00</td>\n",
       "      <td>0.00</td>\n",
       "      <td>0.00</td>\n",
       "      <td>...</td>\n",
       "      <td>0.000</td>\n",
       "      <td>0.125</td>\n",
       "      <td>0.0</td>\n",
       "      <td>0.000</td>\n",
       "      <td>0.000</td>\n",
       "      <td>0.00</td>\n",
       "      <td>1.510</td>\n",
       "      <td>10</td>\n",
       "      <td>74</td>\n",
       "      <td>ham</td>\n",
       "    </tr>\n",
       "    <tr>\n",
       "      <th>2</th>\n",
       "      <td>0.00</td>\n",
       "      <td>0.00</td>\n",
       "      <td>0.00</td>\n",
       "      <td>0.0</td>\n",
       "      <td>0.00</td>\n",
       "      <td>0.00</td>\n",
       "      <td>0.00</td>\n",
       "      <td>0.00</td>\n",
       "      <td>0.00</td>\n",
       "      <td>0.00</td>\n",
       "      <td>...</td>\n",
       "      <td>0.000</td>\n",
       "      <td>0.000</td>\n",
       "      <td>0.0</td>\n",
       "      <td>0.000</td>\n",
       "      <td>0.000</td>\n",
       "      <td>0.00</td>\n",
       "      <td>1.718</td>\n",
       "      <td>11</td>\n",
       "      <td>55</td>\n",
       "      <td>ham</td>\n",
       "    </tr>\n",
       "    <tr>\n",
       "      <th>3</th>\n",
       "      <td>0.33</td>\n",
       "      <td>0.44</td>\n",
       "      <td>0.37</td>\n",
       "      <td>0.0</td>\n",
       "      <td>0.14</td>\n",
       "      <td>0.11</td>\n",
       "      <td>0.00</td>\n",
       "      <td>0.07</td>\n",
       "      <td>0.97</td>\n",
       "      <td>1.16</td>\n",
       "      <td>...</td>\n",
       "      <td>0.006</td>\n",
       "      <td>0.159</td>\n",
       "      <td>0.0</td>\n",
       "      <td>0.069</td>\n",
       "      <td>0.221</td>\n",
       "      <td>0.11</td>\n",
       "      <td>3.426</td>\n",
       "      <td>72</td>\n",
       "      <td>819</td>\n",
       "      <td>spam</td>\n",
       "    </tr>\n",
       "    <tr>\n",
       "      <th>4</th>\n",
       "      <td>0.00</td>\n",
       "      <td>2.08</td>\n",
       "      <td>0.00</td>\n",
       "      <td>0.0</td>\n",
       "      <td>3.12</td>\n",
       "      <td>0.00</td>\n",
       "      <td>1.04</td>\n",
       "      <td>0.00</td>\n",
       "      <td>0.00</td>\n",
       "      <td>0.00</td>\n",
       "      <td>...</td>\n",
       "      <td>0.000</td>\n",
       "      <td>0.000</td>\n",
       "      <td>0.0</td>\n",
       "      <td>0.263</td>\n",
       "      <td>0.000</td>\n",
       "      <td>0.00</td>\n",
       "      <td>1.428</td>\n",
       "      <td>4</td>\n",
       "      <td>20</td>\n",
       "      <td>spam</td>\n",
       "    </tr>\n",
       "    <tr>\n",
       "      <th>...</th>\n",
       "      <td>...</td>\n",
       "      <td>...</td>\n",
       "      <td>...</td>\n",
       "      <td>...</td>\n",
       "      <td>...</td>\n",
       "      <td>...</td>\n",
       "      <td>...</td>\n",
       "      <td>...</td>\n",
       "      <td>...</td>\n",
       "      <td>...</td>\n",
       "      <td>...</td>\n",
       "      <td>...</td>\n",
       "      <td>...</td>\n",
       "      <td>...</td>\n",
       "      <td>...</td>\n",
       "      <td>...</td>\n",
       "      <td>...</td>\n",
       "      <td>...</td>\n",
       "      <td>...</td>\n",
       "      <td>...</td>\n",
       "      <td>...</td>\n",
       "    </tr>\n",
       "    <tr>\n",
       "      <th>4596</th>\n",
       "      <td>0.00</td>\n",
       "      <td>0.00</td>\n",
       "      <td>0.53</td>\n",
       "      <td>0.0</td>\n",
       "      <td>0.00</td>\n",
       "      <td>0.53</td>\n",
       "      <td>0.00</td>\n",
       "      <td>0.00</td>\n",
       "      <td>0.00</td>\n",
       "      <td>0.53</td>\n",
       "      <td>...</td>\n",
       "      <td>0.000</td>\n",
       "      <td>0.101</td>\n",
       "      <td>0.0</td>\n",
       "      <td>0.000</td>\n",
       "      <td>0.000</td>\n",
       "      <td>0.00</td>\n",
       "      <td>1.857</td>\n",
       "      <td>16</td>\n",
       "      <td>52</td>\n",
       "      <td>ham</td>\n",
       "    </tr>\n",
       "    <tr>\n",
       "      <th>4597</th>\n",
       "      <td>0.00</td>\n",
       "      <td>0.00</td>\n",
       "      <td>0.00</td>\n",
       "      <td>0.0</td>\n",
       "      <td>0.00</td>\n",
       "      <td>0.00</td>\n",
       "      <td>0.00</td>\n",
       "      <td>0.00</td>\n",
       "      <td>0.00</td>\n",
       "      <td>0.00</td>\n",
       "      <td>...</td>\n",
       "      <td>0.000</td>\n",
       "      <td>0.443</td>\n",
       "      <td>0.0</td>\n",
       "      <td>0.221</td>\n",
       "      <td>0.665</td>\n",
       "      <td>0.00</td>\n",
       "      <td>3.812</td>\n",
       "      <td>15</td>\n",
       "      <td>61</td>\n",
       "      <td>spam</td>\n",
       "    </tr>\n",
       "    <tr>\n",
       "      <th>4598</th>\n",
       "      <td>0.00</td>\n",
       "      <td>0.00</td>\n",
       "      <td>0.00</td>\n",
       "      <td>0.0</td>\n",
       "      <td>0.00</td>\n",
       "      <td>0.00</td>\n",
       "      <td>0.00</td>\n",
       "      <td>0.00</td>\n",
       "      <td>0.00</td>\n",
       "      <td>0.00</td>\n",
       "      <td>...</td>\n",
       "      <td>0.000</td>\n",
       "      <td>0.000</td>\n",
       "      <td>0.0</td>\n",
       "      <td>0.000</td>\n",
       "      <td>0.000</td>\n",
       "      <td>0.00</td>\n",
       "      <td>1.000</td>\n",
       "      <td>1</td>\n",
       "      <td>3</td>\n",
       "      <td>ham</td>\n",
       "    </tr>\n",
       "    <tr>\n",
       "      <th>4599</th>\n",
       "      <td>0.00</td>\n",
       "      <td>0.00</td>\n",
       "      <td>0.00</td>\n",
       "      <td>0.0</td>\n",
       "      <td>0.00</td>\n",
       "      <td>0.00</td>\n",
       "      <td>0.00</td>\n",
       "      <td>0.00</td>\n",
       "      <td>0.00</td>\n",
       "      <td>0.00</td>\n",
       "      <td>...</td>\n",
       "      <td>0.000</td>\n",
       "      <td>0.218</td>\n",
       "      <td>0.0</td>\n",
       "      <td>0.218</td>\n",
       "      <td>0.000</td>\n",
       "      <td>0.00</td>\n",
       "      <td>1.687</td>\n",
       "      <td>10</td>\n",
       "      <td>27</td>\n",
       "      <td>ham</td>\n",
       "    </tr>\n",
       "    <tr>\n",
       "      <th>4600</th>\n",
       "      <td>0.13</td>\n",
       "      <td>0.26</td>\n",
       "      <td>0.52</td>\n",
       "      <td>0.0</td>\n",
       "      <td>0.26</td>\n",
       "      <td>0.00</td>\n",
       "      <td>0.13</td>\n",
       "      <td>0.00</td>\n",
       "      <td>0.00</td>\n",
       "      <td>0.39</td>\n",
       "      <td>...</td>\n",
       "      <td>0.000</td>\n",
       "      <td>0.000</td>\n",
       "      <td>0.0</td>\n",
       "      <td>0.366</td>\n",
       "      <td>0.000</td>\n",
       "      <td>0.04</td>\n",
       "      <td>7.138</td>\n",
       "      <td>149</td>\n",
       "      <td>1235</td>\n",
       "      <td>spam</td>\n",
       "    </tr>\n",
       "  </tbody>\n",
       "</table>\n",
       "<p>4601 rows × 58 columns</p>\n",
       "</div>"
      ],
      "text/plain": [
       "      make  address   all   3d   our  over  remove  internet  order  mail  \\\n",
       "0     0.00     0.00  0.29  0.0  0.00  0.00    0.00      0.00   0.00  0.00   \n",
       "1     0.46     0.00  0.00  0.0  0.00  0.00    0.00      0.00   0.00  0.00   \n",
       "2     0.00     0.00  0.00  0.0  0.00  0.00    0.00      0.00   0.00  0.00   \n",
       "3     0.33     0.44  0.37  0.0  0.14  0.11    0.00      0.07   0.97  1.16   \n",
       "4     0.00     2.08  0.00  0.0  3.12  0.00    1.04      0.00   0.00  0.00   \n",
       "...    ...      ...   ...  ...   ...   ...     ...       ...    ...   ...   \n",
       "4596  0.00     0.00  0.53  0.0  0.00  0.53    0.00      0.00   0.00  0.53   \n",
       "4597  0.00     0.00  0.00  0.0  0.00  0.00    0.00      0.00   0.00  0.00   \n",
       "4598  0.00     0.00  0.00  0.0  0.00  0.00    0.00      0.00   0.00  0.00   \n",
       "4599  0.00     0.00  0.00  0.0  0.00  0.00    0.00      0.00   0.00  0.00   \n",
       "4600  0.13     0.26  0.52  0.0  0.26  0.00    0.13      0.00   0.00  0.39   \n",
       "\n",
       "      ...  semicol  paren  bracket   bang  dollar  pound  cap_avg  cap_long  \\\n",
       "0     ...    0.000  0.178      0.0  0.044   0.000   0.00    1.666        10   \n",
       "1     ...    0.000  0.125      0.0  0.000   0.000   0.00    1.510        10   \n",
       "2     ...    0.000  0.000      0.0  0.000   0.000   0.00    1.718        11   \n",
       "3     ...    0.006  0.159      0.0  0.069   0.221   0.11    3.426        72   \n",
       "4     ...    0.000  0.000      0.0  0.263   0.000   0.00    1.428         4   \n",
       "...   ...      ...    ...      ...    ...     ...    ...      ...       ...   \n",
       "4596  ...    0.000  0.101      0.0  0.000   0.000   0.00    1.857        16   \n",
       "4597  ...    0.000  0.443      0.0  0.221   0.665   0.00    3.812        15   \n",
       "4598  ...    0.000  0.000      0.0  0.000   0.000   0.00    1.000         1   \n",
       "4599  ...    0.000  0.218      0.0  0.218   0.000   0.00    1.687        10   \n",
       "4600  ...    0.000  0.000      0.0  0.366   0.000   0.04    7.138       149   \n",
       "\n",
       "      cap_total  Class  \n",
       "0           180    ham  \n",
       "1            74    ham  \n",
       "2            55    ham  \n",
       "3           819   spam  \n",
       "4            20   spam  \n",
       "...         ...    ...  \n",
       "4596         52    ham  \n",
       "4597         61   spam  \n",
       "4598          3    ham  \n",
       "4599         27    ham  \n",
       "4600       1235   spam  \n",
       "\n",
       "[4601 rows x 58 columns]"
      ]
     },
     "execution_count": 70,
     "metadata": {},
     "output_type": "execute_result"
    }
   ],
   "source": [
    "#reading the data from the local system\n",
    "df=pd.read_excel(r\"/Users/arjunsahas/Downloads/spam.xlsx\")\n",
    "df"
   ]
  },
  {
   "cell_type": "code",
   "execution_count": 71,
   "id": "1346b8a0",
   "metadata": {},
   "outputs": [
    {
     "data": {
      "text/plain": [
       "(4601, 58)"
      ]
     },
     "execution_count": 71,
     "metadata": {},
     "output_type": "execute_result"
    }
   ],
   "source": [
    "df.shape"
   ]
  },
  {
   "cell_type": "code",
   "execution_count": 72,
   "id": "0197b41c",
   "metadata": {},
   "outputs": [
    {
     "name": "stdout",
     "output_type": "stream",
     "text": [
      "<class 'pandas.core.frame.DataFrame'>\n",
      "RangeIndex: 4601 entries, 0 to 4600\n",
      "Data columns (total 58 columns):\n",
      " #   Column      Non-Null Count  Dtype  \n",
      "---  ------      --------------  -----  \n",
      " 0   make        4601 non-null   float64\n",
      " 1   address     4601 non-null   float64\n",
      " 2   all         4601 non-null   float64\n",
      " 3   3d          4601 non-null   float64\n",
      " 4   our         4601 non-null   float64\n",
      " 5   over        4601 non-null   float64\n",
      " 6   remove      4601 non-null   float64\n",
      " 7   internet    4601 non-null   float64\n",
      " 8   order       4601 non-null   float64\n",
      " 9   mail        4601 non-null   float64\n",
      " 10  receive     4601 non-null   float64\n",
      " 11  will        4601 non-null   float64\n",
      " 12  people      4601 non-null   float64\n",
      " 13  report      4601 non-null   float64\n",
      " 14  addresses   4601 non-null   float64\n",
      " 15  free        4601 non-null   float64\n",
      " 16  business    4601 non-null   float64\n",
      " 17  email       4601 non-null   float64\n",
      " 18  you         4601 non-null   float64\n",
      " 19  credit      4601 non-null   float64\n",
      " 20  your        4601 non-null   float64\n",
      " 21  font        4601 non-null   float64\n",
      " 22  0           4601 non-null   float64\n",
      " 23  money       4601 non-null   float64\n",
      " 24  hp          4601 non-null   float64\n",
      " 25  hpl         4601 non-null   float64\n",
      " 26  george      4601 non-null   float64\n",
      " 27  650         4601 non-null   float64\n",
      " 28  lab         4601 non-null   float64\n",
      " 29  labs        4601 non-null   float64\n",
      " 30  telnet      4601 non-null   float64\n",
      " 31  857         4601 non-null   float64\n",
      " 32  data        4601 non-null   float64\n",
      " 33  415         4601 non-null   float64\n",
      " 34  85          4601 non-null   float64\n",
      " 35  technology  4601 non-null   float64\n",
      " 36  1999        4601 non-null   float64\n",
      " 37  parts       4601 non-null   float64\n",
      " 38  pm          4601 non-null   float64\n",
      " 39  direct      4601 non-null   float64\n",
      " 40  cs          4601 non-null   float64\n",
      " 41  meeting     4601 non-null   float64\n",
      " 42  original    4601 non-null   float64\n",
      " 43  project     4601 non-null   float64\n",
      " 44  re          4601 non-null   float64\n",
      " 45  edu         4601 non-null   float64\n",
      " 46  table       4601 non-null   float64\n",
      " 47  conference  4601 non-null   float64\n",
      " 48  semicol     4601 non-null   float64\n",
      " 49  paren       4601 non-null   float64\n",
      " 50  bracket     4601 non-null   float64\n",
      " 51  bang        4601 non-null   float64\n",
      " 52  dollar      4601 non-null   float64\n",
      " 53  pound       4601 non-null   float64\n",
      " 54  cap_avg     4601 non-null   float64\n",
      " 55  cap_long    4601 non-null   int64  \n",
      " 56  cap_total   4601 non-null   int64  \n",
      " 57  Class       4601 non-null   object \n",
      "dtypes: float64(55), int64(2), object(1)\n",
      "memory usage: 2.0+ MB\n"
     ]
    }
   ],
   "source": [
    "df.info()"
   ]
  },
  {
   "cell_type": "code",
   "execution_count": 73,
   "id": "f89286f6",
   "metadata": {},
   "outputs": [
    {
     "data": {
      "image/png": "[encoded data removed]",
      "text/plain": [
       "<Figure size 576x432 with 1 Axes>"
      ]
     },
     "metadata": {
      "needs_background": "light"
     },
     "output_type": "display_data"
    }
   ],
   "source": [
    "plt.figure(figsize=(8,6))\n",
    "sns.countplot(df[\"Class\"],hue=df[\"Class\"])\n",
    "plt.title(\"Number of ham and spam email in the dataset\",fontsize=18)\n",
    "plt.show()"
   ]
  },
  {
   "cell_type": "code",
   "execution_count": 74,
   "id": "55fb8b62",
   "metadata": {},
   "outputs": [],
   "source": [
    "#making the target column to ham as 0 and spam as 1.\n",
    "df['Class']=df[\"Class\"].replace({\"ham\":0,\"spam\":1})"
   ]
  },
  {
   "cell_type": "code",
   "execution_count": 75,
   "id": "1fed3a33",
   "metadata": {},
   "outputs": [],
   "source": [
    "#making dependent and Independent features\n",
    "X=df.drop(columns=['Class'],axis=1)\n",
    "y=df[\"Class\"]"
   ]
  },
  {
   "cell_type": "code",
   "execution_count": 76,
   "id": "971de1f7",
   "metadata": {},
   "outputs": [],
   "source": [
    "#Splitting the dataset into trainingset and testingset\n",
    "X_train,X_test,y_train,y_test=train_test_split(X,y,test_size=0.3,random_state=1234)"
   ]
  },
  {
   "cell_type": "markdown",
   "id": "32d0930f",
   "metadata": {},
   "source": [
    "### Fused models"
   ]
  },
  {
   "cell_type": "code",
   "execution_count": 77,
   "id": "7e5542f7",
   "metadata": {},
   "outputs": [],
   "source": [
    "clf1=DecisionTreeClassifier()\n",
    "clf2=GaussianNB()\n",
    "clf3=LogisticRegression()"
   ]
  },
  {
   "cell_type": "code",
   "execution_count": 78,
   "id": "508eb837",
   "metadata": {},
   "outputs": [
    {
     "name": "stdout",
     "output_type": "stream",
     "text": [
      "Accuracy of Fused model 0.9341057204923968\n"
     ]
    }
   ],
   "source": [
    "model=EnsembleVoteClassifier(clfs=[clf1,clf2,clf3],voting=\"hard\")\n",
    "model.fit(X_train,y_train)\n",
    "pred_1=model.predict(X_test)\n",
    "print(\"Accuracy of Fused model\",accuracy_score(y_test,pred_1))"
   ]
  },
  {
   "cell_type": "markdown",
   "id": "d98316f6",
   "metadata": {},
   "source": [
    "### Adaboost Model"
   ]
  },
  {
   "cell_type": "code",
   "execution_count": 84,
   "id": "9f736144",
   "metadata": {},
   "outputs": [
    {
     "name": "stdout",
     "output_type": "stream",
     "text": [
      "AdaBoost model accuracy 0.97\n"
     ]
    }
   ],
   "source": [
    "#adaboost model by default it use Decisiontree as base learner.\n",
    "ada_model=AdaBoostClassifier()\n",
    "#training the model\n",
    "ada_model.fit(X_test,y_test)\n",
    "#prediction\n",
    "pred_4=ada_model.predict(X_test)\n",
    "acc_score_ada=accuracy_score(y_test,pred_4)\n",
    "print(\"AdaBoost model accuracy %.2f\" % acc_score_ada)"
   ]
  },
  {
   "cell_type": "markdown",
   "id": "b385395b",
   "metadata": {},
   "source": [
    "### RandomForest Model"
   ]
  },
  {
   "cell_type": "code",
   "execution_count": 83,
   "id": "c8588827",
   "metadata": {},
   "outputs": [
    {
     "name": "stdout",
     "output_type": "stream",
     "text": [
      "RandomForest model accuracy 0.95\n"
     ]
    }
   ],
   "source": [
    "rf_model=RandomForestClassifier(n_estimators=1000)\n",
    "rf_model.fit(X_train,y_train)\n",
    "pred_5=rf_model.predict(X_test)\n",
    "acc_score_rf=accuracy_score(y_test,pred_5)\n",
    "print(\"RandomForest model accuracy %.2f\" % acc_score_rf)"
   ]
  },
  {
   "cell_type": "markdown",
   "id": "f60c5ac7",
   "metadata": {},
   "source": [
    "### 50% - 50% split"
   ]
  },
  {
   "cell_type": "code",
   "execution_count": 85,
   "id": "5be6db6d",
   "metadata": {},
   "outputs": [],
   "source": [
    "#splitting the data into training and testing 50-50\n",
    "X_train_1,X_test_1,y_train_1,y_test_1=train_test_split(X,y,test_size=0.5,random_state=1234)"
   ]
  },
  {
   "cell_type": "code",
   "execution_count": 89,
   "id": "e876b7f3",
   "metadata": {},
   "outputs": [
    {
     "name": "stdout",
     "output_type": "stream",
     "text": [
      "Accuracy of Fused model model with 50-50 split 0.9322033898305084\n",
      "accuracy score of AdaBoost model with 50-50 split : 0.94\n"
     ]
    }
   ],
   "source": [
    "fused_1=EnsembleVoteClassifier(clfs=[clf1,clf2,clf3],voting=\"hard\")\n",
    "fused_1.fit(X_train_1,y_train_1)\n",
    "fused_pred_1=fused_1.predict(X_test_1)\n",
    "print(\"Accuracy of Fused model model with 50-50 split\",accuracy_score(y_test_1,fused_pred_1))\n",
    "\n",
    "ada_1=AdaBoostClassifier()\n",
    "ada_1.fit(X_train_1,y_train_1)\n",
    "fused_pred_ada=ada_1.predict(X_test_1)\n",
    "print(\"accuracy score of AdaBoost model with 50-50 split : {:.2f}\".format(accuracy_score(y_test_1,fused_pred_ada)))\n"
   ]
  },
  {
   "cell_type": "markdown",
   "id": "7de6d2f5",
   "metadata": {},
   "source": [
    "### 60% - 40% Split"
   ]
  },
  {
   "cell_type": "code",
   "execution_count": 90,
   "id": "e0e6a1aa",
   "metadata": {},
   "outputs": [],
   "source": [
    "#splitting the data into training and testing 60-40\n",
    "X_train_2,X_test_2,y_train_2,y_test_2=train_test_split(X,y,test_size=0.4,random_state=1234)"
   ]
  },
  {
   "cell_type": "code",
   "execution_count": 91,
   "id": "3625b988",
   "metadata": {},
   "outputs": [
    {
     "name": "stdout",
     "output_type": "stream",
     "text": [
      "Accuracy of Fused model with 60-40 split 0.9369907658881043\n",
      "accuracy score of AdaBoost model with 60-40 split : 0.94\n"
     ]
    }
   ],
   "source": [
    "fused_2=EnsembleVoteClassifier(clfs=[clf1,clf2,clf3],voting=\"hard\")\n",
    "fused_2.fit(X_train_2,y_train_2)\n",
    "fused_pred_2=fused_2.predict(X_test_2)\n",
    "print(\"Accuracy of Fused model with 60-40 split\",accuracy_score(y_test_2,fused_pred_2))\n",
    "\n",
    "ada_2=AdaBoostClassifier()\n",
    "ada_2.fit(X_train_2,y_train_2)\n",
    "fused_pred_ada_2=ada_2.predict(X_test_2)\n",
    "print(\"accuracy score of AdaBoost model with 60-40 split : {:.2f}\".format(accuracy_score(y_test_2,fused_pred_ada_2)))\n"
   ]
  },
  {
   "cell_type": "markdown",
   "id": "7ea3ac2c",
   "metadata": {},
   "source": [
    "### 70% - 30% Split"
   ]
  },
  {
   "cell_type": "code",
   "execution_count": 92,
   "id": "80f56aeb",
   "metadata": {},
   "outputs": [],
   "source": [
    "#splitting the data into training and testing 70-30\n",
    "X_train_3,X_test_3,y_train_3,y_test_3=train_test_split(X,y,test_size=0.3,random_state=1234)"
   ]
  },
  {
   "cell_type": "code",
   "execution_count": 93,
   "id": "3fd5d314",
   "metadata": {},
   "outputs": [
    {
     "name": "stdout",
     "output_type": "stream",
     "text": [
      "Accuracy of Fused model with 70-30 split 0.9355539464156408\n",
      "accuracy score of AdaBoost model with 70-30 split : 0.94\n"
     ]
    }
   ],
   "source": [
    "fused_3=EnsembleVoteClassifier(clfs=[clf1,clf2,clf3],voting=\"hard\")\n",
    "fused_3.fit(X_train_3,y_train_3)\n",
    "fused_pred_3=fused_3.predict(X_test_3)\n",
    "print(\"Accuracy of Fused model with 70-30 split\",accuracy_score(y_test_3,fused_pred_3))\n",
    "\n",
    "ada_3=AdaBoostClassifier()\n",
    "ada_3.fit(X_train_3,y_train_3)\n",
    "fused_pred_ada_3=ada_3.predict(X_test_3)\n",
    "print(\"accuracy score of AdaBoost model with 70-30 split : {:.2f}\".format(accuracy_score(y_test_3,fused_pred_ada_3)))\n"
   ]
  },
  {
   "cell_type": "markdown",
   "id": "7c3010eb",
   "metadata": {},
   "source": [
    "### 80% - 20% Split"
   ]
  },
  {
   "cell_type": "code",
   "execution_count": 57,
   "id": "641c7a27",
   "metadata": {},
   "outputs": [],
   "source": [
    "#splitting the data into training and testing 80-20\n",
    "X_train_4,X_test_4,y_train_4,y_test_4=train_test_split(X,y,test_size=0.2,random_state=1234)"
   ]
  },
  {
   "cell_type": "code",
   "execution_count": 94,
   "id": "999c9077",
   "metadata": {},
   "outputs": [
    {
     "name": "stdout",
     "output_type": "stream",
     "text": [
      "Accuracy of Fused model with 80-20 split 0.9402823018458197\n",
      "accuracy score of AdaBoost model with 80-20 split : 0.94\n"
     ]
    }
   ],
   "source": [
    "fused_4=EnsembleVoteClassifier(clfs=[clf1,clf2,clf3],voting=\"hard\")\n",
    "fused_4.fit(X_train_4,y_train_4)\n",
    "fused_pred_4=fused_4.predict(X_test_4)\n",
    "print(\"Accuracy of Fused model with 80-20 split\",accuracy_score(y_test_4,fused_pred_4))\n",
    "\n",
    "ada_4=AdaBoostClassifier()\n",
    "ada_4.fit(X_train_4,y_train_4)\n",
    "fused_pred_ada_4=ada_4.predict(X_test_4)\n",
    "print(\"accuracy score of AdaBoost model with 80-20 split : {:.2f}\".format(accuracy_score(y_test_4,fused_pred_ada_4)))\n"
   ]
  },
  {
   "cell_type": "markdown",
   "id": "31847ffb",
   "metadata": {},
   "source": [
    "### Accuracies of all models"
   ]
  },
  {
   "cell_type": "code",
   "execution_count": 106,
   "id": "3201f749",
   "metadata": {},
   "outputs": [
    {
     "name": "stdout",
     "output_type": "stream",
     "text": [
      "DecisionTreeClassifier() accuracy is 0.915\n",
      "confusion matrix of DecisionTreeClassifier() \n",
      " [[801  73]\n",
      " [ 45 462]]\n",
      "classification report of DecisionTreeClassifier() \n",
      "               precision    recall  f1-score   support\n",
      "\n",
      "           0       0.95      0.92      0.93       874\n",
      "           1       0.86      0.91      0.89       507\n",
      "\n",
      "    accuracy                           0.91      1381\n",
      "   macro avg       0.91      0.91      0.91      1381\n",
      "weighted avg       0.92      0.91      0.92      1381\n",
      "\n",
      "per-class classification accuracy of spam: 0.91\n",
      "per-class classification accuracy of ham: 0.92\n",
      "======================================================================================================\n",
      "GaussianNB() accuracy is 0.810\n",
      "confusion matrix of GaussianNB() \n",
      " [[634 240]\n",
      " [ 22 485]]\n",
      "classification report of GaussianNB() \n",
      "               precision    recall  f1-score   support\n",
      "\n",
      "           0       0.97      0.73      0.83       874\n",
      "           1       0.67      0.96      0.79       507\n",
      "\n",
      "    accuracy                           0.81      1381\n",
      "   macro avg       0.82      0.84      0.81      1381\n",
      "weighted avg       0.86      0.81      0.81      1381\n",
      "\n",
      "per-class classification accuracy of spam: 0.96\n",
      "per-class classification accuracy of ham: 0.73\n",
      "======================================================================================================\n",
      "LogisticRegression() accuracy is 0.925\n",
      "confusion matrix of LogisticRegression() \n",
      " [[832  42]\n",
      " [ 62 445]]\n",
      "classification report of LogisticRegression() \n",
      "               precision    recall  f1-score   support\n",
      "\n",
      "           0       0.93      0.95      0.94       874\n",
      "           1       0.91      0.88      0.90       507\n",
      "\n",
      "    accuracy                           0.92      1381\n",
      "   macro avg       0.92      0.91      0.92      1381\n",
      "weighted avg       0.92      0.92      0.92      1381\n",
      "\n",
      "per-class classification accuracy of spam: 0.88\n",
      "per-class classification accuracy of ham: 0.95\n",
      "======================================================================================================\n",
      "AdaBoostClassifier() accuracy is 0.941\n",
      "confusion matrix of AdaBoostClassifier() \n",
      " [[836  38]\n",
      " [ 44 463]]\n",
      "classification report of AdaBoostClassifier() \n",
      "               precision    recall  f1-score   support\n",
      "\n",
      "           0       0.95      0.96      0.95       874\n",
      "           1       0.92      0.91      0.92       507\n",
      "\n",
      "    accuracy                           0.94      1381\n",
      "   macro avg       0.94      0.93      0.94      1381\n",
      "weighted avg       0.94      0.94      0.94      1381\n",
      "\n",
      "per-class classification accuracy of spam: 0.91\n",
      "per-class classification accuracy of ham: 0.96\n",
      "======================================================================================================\n",
      "RandomForestClassifier() accuracy is 0.952\n",
      "confusion matrix of RandomForestClassifier() \n",
      " [[845  29]\n",
      " [ 37 470]]\n",
      "classification report of RandomForestClassifier() \n",
      "               precision    recall  f1-score   support\n",
      "\n",
      "           0       0.96      0.97      0.96       874\n",
      "           1       0.94      0.93      0.93       507\n",
      "\n",
      "    accuracy                           0.95      1381\n",
      "   macro avg       0.95      0.95      0.95      1381\n",
      "weighted avg       0.95      0.95      0.95      1381\n",
      "\n",
      "per-class classification accuracy of spam: 0.93\n",
      "per-class classification accuracy of ham: 0.97\n",
      "======================================================================================================\n"
     ]
    }
   ],
   "source": [
    "models=[DecisionTreeClassifier(),GaussianNB(),LogisticRegression(),AdaBoostClassifier(),RandomForestClassifier()]\n",
    "for i in models:\n",
    "    model=i\n",
    "    model.fit(X_train,y_train)\n",
    "    y_pred=model.predict(X_test)\n",
    "    acc_score=accuracy_score(y_test,y_pred)\n",
    "    print(\"{} accuracy is {:.3f}\" .format(i,acc_score))\n",
    "    con_matrix=confusion_matrix(y_test,y_pred)\n",
    "    print(\"confusion matrix of {} \\n {}\".format(i,con_matrix))\n",
    "    cls_report=classification_report(y_test,y_pred)\n",
    "    print(\"classification report of {} \\n {}\".format(i,cls_report))\n",
    "    #perclass accuracy rate\n",
    "    tp=con_matrix[0][0]\n",
    "    fp=con_matrix[0][1]\n",
    "    fn=con_matrix[1][0]\n",
    "    tn=con_matrix[1][1]\n",
    "    #per-class classification accuracy\n",
    "    spam=tn/(fn+tn)\n",
    "    print(\"per-class classification accuracy of spam: {:.2f}\".format(spam))\n",
    "    ham=tp/(tp+fp)\n",
    "    print(\"per-class classification accuracy of ham: {:.2f}\".format(ham))\n",
    "    print(\"======================================================================================================\")"
   ]
  },
  {
   "cell_type": "code",
   "execution_count": null,
   "id": "65927fb5",
   "metadata": {},
   "outputs": [],
   "source": []
  }
 ],
 "metadata": {
  "kernelspec": {
   "display_name": "Python 3 (ipykernel)",
   "language": "python",
   "name": "python3"
  },
  "language_info": {
   "codemirror_mode": {
    "name": "ipython",
    "version": 3
   },
   "file_extension": ".py",
   "mimetype": "text/x-python",
   "name": "python",
   "nbconvert_exporter": "python",
   "pygments_lexer": "ipython3",
   "version": "3.9.12"
  }
 },
 "nbformat": 4,
 "nbformat_minor": 5
}
